{
 "cells": [
  {
   "cell_type": "code",
   "execution_count": 1,
   "metadata": {},
   "outputs": [
    {
     "name": "stdout",
     "output_type": "stream",
     "text": [
      "Enter number of elements : 5\n",
      "\n",
      "Enter the numbers : 1 2 3 4 5\n",
      "enter the target number:9\n",
      "the sum of element at index 3 and 4 is equal to target\n"
     ]
    }
   ],
   "source": [
    "# number of elements\n",
    "n = int(input(\"Enter number of elements : \"))\n",
    "# Below line read inputs from user using map() function\n",
    "a = list(map(int,input(\"\\nEnter the numbers : \").strip().split()))[:n]\n",
    "#get the target \n",
    "target=int(input(\"enter the target number:\"))\n",
    "#main code\n",
    "def twosum(b,c):\n",
    "    for i in range(n):\n",
    "        for j in range(i+1,n):\n",
    "            #sum of the elements\n",
    "            sum=a[i]+a[j]\n",
    "            if(sum==target):\n",
    "                print(\"the sum of element at index {} and {} is equal to target\".format(i,j))\n",
    "twosum(n,a)"
   ]
  },
  {
   "cell_type": "code",
   "execution_count": null,
   "metadata": {},
   "outputs": [],
   "source": []
  }
 ],
 "metadata": {
  "kernelspec": {
   "display_name": "Python 3",
   "language": "python",
   "name": "python3"
  },
  "language_info": {
   "codemirror_mode": {
    "name": "ipython",
    "version": 3
   },
   "file_extension": ".py",
   "mimetype": "text/x-python",
   "name": "python",
   "nbconvert_exporter": "python",
   "pygments_lexer": "ipython3",
   "version": "3.7.6"
  }
 },
 "nbformat": 4,
 "nbformat_minor": 4
}
